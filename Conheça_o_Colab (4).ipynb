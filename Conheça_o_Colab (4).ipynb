{
  "cells": [
    {
      "cell_type": "code",
      "source": [
        "#peças abaixo da média de seu tipo"
      ],
      "metadata": {
        "id": "2A-kb9u8bMlN"
      },
      "execution_count": 19,
      "outputs": []
    },
    {
      "cell_type": "code",
      "source": [
        "import numpy as np"
      ],
      "metadata": {
        "id": "gSh2SZ7vbP2P"
      },
      "execution_count": 18,
      "outputs": []
    },
    {
      "cell_type": "code",
      "source": [
        "# Dados: produção de 3 peças (A, B, C) durante 4 semanas\n",
        "# Linhas = peças, colunas = semanas\n",
        "dados = np.array([\n",
        "    [146, 232, 203, 266],  # Peça A\n",
        "    [181, 197, 120, 255],  # Peça B\n",
        "    [192, 156, 142, 224]   # Peça C\n",
        "])"
      ],
      "metadata": {
        "id": "-zYxFMO_bP9P"
      },
      "execution_count": 20,
      "outputs": []
    },
    {
      "cell_type": "code",
      "source": [
        "# Nomes das peças e semanas\n",
        "pecas = ['A', 'B', 'C']\n",
        "semanas = ['Semana 1', 'Semana 2', 'Semana 3', 'Semana 4']"
      ],
      "metadata": {
        "id": "suBjs_DbbQCP"
      },
      "execution_count": 22,
      "outputs": []
    },
    {
      "cell_type": "code",
      "source": [
        "# 1. Total produzido de cada peça (soma linha)\n",
        "print(\"Total produzido de cada peça:\")\n",
        "for i in range(3):  # para cada peça\n",
        "    total = 0\n",
        "    for j in range(4):  # somar as 4 semanas\n",
        "        total += dados[i][j]\n",
        "    print(f\"Peça {pecas[i]}: {total}\")"
      ],
      "metadata": {
        "id": "zCWkGe-dbehn",
        "outputId": "c65ad7ec-d366-425d-bfa6-a2af2c5d98b1",
        "colab": {
          "base_uri": "https://localhost:8080/"
        }
      },
      "execution_count": 23,
      "outputs": [
        {
          "output_type": "stream",
          "name": "stdout",
          "text": [
            "Total produzido de cada peça:\n",
            "Peça A: 847\n",
            "Peça B: 753\n",
            "Peça C: 714\n"
          ]
        }
      ]
    },
    {
      "cell_type": "code",
      "source": [
        "# 2. Total produzido em cada semana (soma coluna)\n",
        "print(\"\\nTotal produzido em cada semana:\")\n",
        "for j in range(4):  # para cada semana\n",
        "    total = 0\n",
        "    for i in range(3):  # somar as 3 peças\n",
        "        total += dados[i][j]\n",
        "    print(f\"{semanas[j]}: {total}\")"
      ],
      "metadata": {
        "id": "H9kyllQObelM",
        "outputId": "10464678-0846-4c45-e733-60cca0f32b9e",
        "colab": {
          "base_uri": "https://localhost:8080/"
        }
      },
      "execution_count": 24,
      "outputs": [
        {
          "output_type": "stream",
          "name": "stdout",
          "text": [
            "\n",
            "Total produzido em cada semana:\n",
            "Semana 1: 519\n",
            "Semana 2: 585\n",
            "Semana 3: 465\n",
            "Semana 4: 745\n"
          ]
        }
      ]
    },
    {
      "cell_type": "code",
      "source": [
        "# 3. Semana com maior produção total\n",
        "maior_total = 0\n",
        "semana_maior = ''\n",
        "for j in range(4):\n",
        "    total = 0\n",
        "    for i in range(3):\n",
        "        total += dados[i][j]\n",
        "    if total > maior_total:\n",
        "        maior_total = total\n",
        "        semana_maior = semanas[j]\n",
        "print(f\"\\nSemana com maior produção: {semana_maior} com {maior_total} peças\")\n"
      ],
      "metadata": {
        "id": "ee8YiGq_bepm",
        "outputId": "3cd1a6b7-d19c-42a3-b5fe-241e1426809a",
        "colab": {
          "base_uri": "https://localhost:8080/"
        }
      },
      "execution_count": 25,
      "outputs": [
        {
          "output_type": "stream",
          "name": "stdout",
          "text": [
            "\n",
            "Semana com maior produção: Semana 4 com 745 peças\n"
          ]
        }
      ]
    },
    {
      "cell_type": "code",
      "source": [
        "# 4. Média semanal de produção por peça\n",
        "print(\"\\nMédia semanal de produção por peça:\")\n",
        "for i in range(3):\n",
        "    soma = 0\n",
        "    for j in range(4):\n",
        "        soma += dados[i][j]\n",
        "    media = soma / 4\n",
        "    print(f\"Peça {pecas[i]}: {media:.2f}\")"
      ],
      "metadata": {
        "id": "b3ehTCLTbr2e",
        "outputId": "5e8f5fb6-e2a2-4219-8f98-ba187862813d",
        "colab": {
          "base_uri": "https://localhost:8080/"
        }
      },
      "execution_count": 26,
      "outputs": [
        {
          "output_type": "stream",
          "name": "stdout",
          "text": [
            "\n",
            "Média semanal de produção por peça:\n",
            "Peça A: 211.75\n",
            "Peça B: 188.25\n",
            "Peça C: 178.50\n"
          ]
        }
      ]
    },
    {
      "cell_type": "code",
      "source": [
        "# 5. Peça com maior média de produção\n",
        "medias = []\n",
        "for i in range(3):\n",
        "    soma = 0\n",
        "    for j in range(4):\n",
        "        soma += dados[i][j]\n",
        "    medias.append(soma / 4)\n",
        "maior_media = medias[0]\n",
        "peca_maior = pecas[0]\n",
        "for i in range(1, 3):\n",
        "    if medias[i] > maior_media:\n",
        "        maior_media = medias[i]\n",
        "        peca_maior = pecas[i]\n",
        "print(f\"\\nPeça com maior média de produção: {peca_maior} com média {maior_media:.2f}\")"
      ],
      "metadata": {
        "id": "fMGowF2bbr7N",
        "outputId": "8a9f5a3f-9654-4954-9372-9adc2a32fe54",
        "colab": {
          "base_uri": "https://localhost:8080/"
        }
      },
      "execution_count": 27,
      "outputs": [
        {
          "output_type": "stream",
          "name": "stdout",
          "text": [
            "\n",
            "Peça com maior média de produção: A com média 211.75\n"
          ]
        }
      ]
    },
    {
      "cell_type": "code",
      "source": [
        "# 6. Crescimento percentual semanal da peça A\n",
        "print(\"\\nCrescimento percentual semanal da peça A:\")\n",
        "for j in range(1, 4):\n",
        "    anterior = dados[0][j-1]\n",
        "    atual = dados[0][j]\n",
        "    crescimento = ((atual - anterior) / anterior) * 100\n",
        "    print(f\"Semana {j} para Semana {j+1}: {crescimento:.2f}%\")\n"
      ],
      "metadata": {
        "id": "VrTK5uvJbr-2",
        "outputId": "2e75d5fa-8b8a-43a1-846e-5c96791ef351",
        "colab": {
          "base_uri": "https://localhost:8080/"
        }
      },
      "execution_count": 28,
      "outputs": [
        {
          "output_type": "stream",
          "name": "stdout",
          "text": [
            "\n",
            "Crescimento percentual semanal da peça A:\n",
            "Semana 1 para Semana 2: 58.90%\n",
            "Semana 2 para Semana 3: -12.50%\n",
            "Semana 3 para Semana 4: 31.03%\n"
          ]
        }
      ]
    },
    {
      "cell_type": "code",
      "source": [
        "# 7. Peças abaixo da média da própria peça\n",
        "print(\"\\nProduções abaixo da média da própria peça:\")\n",
        "for i in range(3):\n",
        "    soma = 0\n",
        "    for j in range(4):\n",
        "        soma += dados[i][j]\n",
        "    media = soma / 4\n",
        "    for j in range(4):\n",
        "        if dados[i][j] < media:\n",
        "            print(f\"Peça {pecas[i]}, {semanas[j]}: {dados[i][j]}\")"
      ],
      "metadata": {
        "id": "oy9j0PdubQG3",
        "outputId": "724e9c24-bd51-4fe3-f609-f4a61b81d037",
        "colab": {
          "base_uri": "https://localhost:8080/"
        }
      },
      "execution_count": 29,
      "outputs": [
        {
          "output_type": "stream",
          "name": "stdout",
          "text": [
            "\n",
            "Produções abaixo da média da própria peça:\n",
            "Peça A, Semana 1: 146\n",
            "Peça A, Semana 3: 203\n",
            "Peça B, Semana 1: 181\n",
            "Peça B, Semana 3: 120\n",
            "Peça C, Semana 2: 156\n",
            "Peça C, Semana 3: 142\n"
          ]
        }
      ]
    }
  ],
  "metadata": {
    "colab": {
      "name": "Conheça o Colab",
      "provenance": []
    },
    "kernelspec": {
      "display_name": "Python 3",
      "name": "python3"
    }
  },
  "nbformat": 4,
  "nbformat_minor": 0
}