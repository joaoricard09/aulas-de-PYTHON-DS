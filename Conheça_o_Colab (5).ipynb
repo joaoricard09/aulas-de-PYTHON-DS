{
  "cells": [
    {
      "cell_type": "code",
      "source": [
        "#Series chamada temperaturas com os valores"
      ],
      "metadata": {
        "id": "9veNzV4YhpVH"
      },
      "execution_count": 30,
      "outputs": []
    },
    {
      "cell_type": "code",
      "source": [
        "import pandas as pd\n",
        "import numpy as np"
      ],
      "metadata": {
        "id": "jfXd6He1hnCd"
      },
      "execution_count": 31,
      "outputs": []
    },
    {
      "cell_type": "code",
      "source": [
        "# Criar a Series de temperaturas com índices personalizados\n",
        "temperaturas = pd.Series([22, 25, 19, 28, 23], index=['Seg', 'Ter', 'Qua', 'Qui', 'Sex'])"
      ],
      "metadata": {
        "id": "JYZ4Uuc8hnE_"
      },
      "execution_count": 32,
      "outputs": []
    },
    {
      "cell_type": "code",
      "source": [
        "# Exibir a Series completa\n",
        "print(\"Temperaturas:\\n\", temperaturas)"
      ],
      "metadata": {
        "id": "DDM_D7S3hnJl",
        "outputId": "f112cbd1-58cb-4e8c-b379-8e498f604e84",
        "colab": {
          "base_uri": "https://localhost:8080/"
        }
      },
      "execution_count": 33,
      "outputs": [
        {
          "output_type": "stream",
          "name": "stdout",
          "text": [
            "Temperaturas:\n",
            " Seg    22\n",
            "Ter    25\n",
            "Qua    19\n",
            "Qui    28\n",
            "Sex    23\n",
            "dtype: int64\n"
          ]
        }
      ]
    },
    {
      "cell_type": "code",
      "source": [
        "# Acessar e exibir a temperatura de 'Qua'\n",
        "print(\"\\nTemperatura de Qua:\", temperaturas['Qua'])"
      ],
      "metadata": {
        "id": "acEngziOhnMX",
        "outputId": "186a6351-93d8-41b1-867b-78b17e35d8f5",
        "colab": {
          "base_uri": "https://localhost:8080/"
        }
      },
      "execution_count": 34,
      "outputs": [
        {
          "output_type": "stream",
          "name": "stdout",
          "text": [
            "\n",
            "Temperatura de Qua: 19\n"
          ]
        }
      ]
    },
    {
      "cell_type": "code",
      "source": [
        "# Acessar e exibir temperatura de 'Seg' e 'Sex'\n",
        "print(\"\\nTemperatura de Seg e Sex:\\n\", temperaturas[['Seg', 'Sex']])"
      ],
      "metadata": {
        "id": "naj-hZ2phnjX",
        "outputId": "bb5d3927-64af-462b-b45d-06ef19d54395",
        "colab": {
          "base_uri": "https://localhost:8080/"
        }
      },
      "execution_count": 35,
      "outputs": [
        {
          "output_type": "stream",
          "name": "stdout",
          "text": [
            "\n",
            "Temperatura de Seg e Sex:\n",
            " Seg    22\n",
            "Sex    23\n",
            "dtype: int64\n"
          ]
        }
      ]
    },
    {
      "cell_type": "code",
      "source": [
        "# Alterar a temperatura de 'Ter' para 26\n",
        "temperaturas['Ter'] = 26\n",
        "print(\"\\nTemperaturas após alteração:\\n\", temperaturas)"
      ],
      "metadata": {
        "id": "UroZlnO0hnnI",
        "outputId": "d041b75c-1881-4f14-ba86-fb345ca4839b",
        "colab": {
          "base_uri": "https://localhost:8080/"
        }
      },
      "execution_count": 36,
      "outputs": [
        {
          "output_type": "stream",
          "name": "stdout",
          "text": [
            "\n",
            "Temperaturas após alteração:\n",
            " Seg    22\n",
            "Ter    26\n",
            "Qua    19\n",
            "Qui    28\n",
            "Sex    23\n",
            "dtype: int64\n"
          ]
        }
      ]
    },
    {
      "cell_type": "code",
      "source": [
        "# Multiplicar todos os valores por 1.5\n",
        "temperaturas2 = temperaturas * 1.5\n",
        "print(\"\\nTemperaturas multiplicadas por 1.5:\\n\", temperaturas2)"
      ],
      "metadata": {
        "id": "1DgMxsfRiNbp",
        "outputId": "d93a6613-c18e-40a1-b77a-43eaafc03aa3",
        "colab": {
          "base_uri": "https://localhost:8080/"
        }
      },
      "execution_count": 37,
      "outputs": [
        {
          "output_type": "stream",
          "name": "stdout",
          "text": [
            "\n",
            "Temperaturas multiplicadas por 1.5:\n",
            " Seg    33.0\n",
            "Ter    39.0\n",
            "Qua    28.5\n",
            "Qui    42.0\n",
            "Sex    34.5\n",
            "dtype: float64\n"
          ]
        }
      ]
    },
    {
      "cell_type": "code",
      "source": [
        "# Exibir apenas temperaturas maiores que 24\n",
        "temperaturas_maiores_24 = temperaturas[temperaturas > 24]\n",
        "print(\"\\nTemperaturas maiores que 24:\\n\", temperaturas_maiores_24)"
      ],
      "metadata": {
        "id": "c8YmMCGNiNgP",
        "outputId": "5aae302b-70c7-4cd8-dbeb-8f9648364354",
        "colab": {
          "base_uri": "https://localhost:8080/"
        }
      },
      "execution_count": 38,
      "outputs": [
        {
          "output_type": "stream",
          "name": "stdout",
          "text": [
            "\n",
            "Temperaturas maiores que 24:\n",
            " Ter    26\n",
            "Qui    28\n",
            "dtype: int64\n"
          ]
        }
      ]
    },
    {
      "cell_type": "code",
      "source": [
        "# Criar Series de estoque com um valor NaN\n",
        "estoque = pd.Series(\n",
        "    [100, 150, np.nan, 80, 120],\n",
        "    index=['Produto A', 'Produto B', 'Produto C', 'Produto D', 'Produto E']\n",
        ")\n",
        "print(\"\\nEstoque:\\n\", estoque)"
      ],
      "metadata": {
        "id": "kDDHpP8-iNiy",
        "outputId": "86a781a2-6394-450e-c632-ea9bba4205e1",
        "colab": {
          "base_uri": "https://localhost:8080/"
        }
      },
      "execution_count": 39,
      "outputs": [
        {
          "output_type": "stream",
          "name": "stdout",
          "text": [
            "\n",
            "Estoque:\n",
            " Produto A    100.0\n",
            "Produto B    150.0\n",
            "Produto C      NaN\n",
            "Produto D     80.0\n",
            "Produto E    120.0\n",
            "dtype: float64\n"
          ]
        }
      ]
    },
    {
      "cell_type": "code",
      "source": [
        "# Verificar quais elementos são nulos\n",
        "nulos = estoque.isnull()\n",
        "print(\"\\nElementos nulos no estoque:\\n\", nulos)"
      ],
      "metadata": {
        "id": "msj_V8tUiNnm",
        "outputId": "6eea3805-4709-4112-e5a5-47e3fdf76548",
        "colab": {
          "base_uri": "https://localhost:8080/"
        }
      },
      "execution_count": 40,
      "outputs": [
        {
          "output_type": "stream",
          "name": "stdout",
          "text": [
            "\n",
            "Elementos nulos no estoque:\n",
            " Produto A    False\n",
            "Produto B    False\n",
            "Produto C     True\n",
            "Produto D    False\n",
            "Produto E    False\n",
            "dtype: bool\n"
          ]
        }
      ]
    }
  ],
  "metadata": {
    "colab": {
      "name": "Conheça o Colab",
      "provenance": []
    },
    "kernelspec": {
      "display_name": "Python 3",
      "name": "python3"
    }
  },
  "nbformat": 4,
  "nbformat_minor": 0
}