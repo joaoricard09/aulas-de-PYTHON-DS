{
  "cells": [
    {
      "cell_type": "code",
      "source": [
        "#Temperatura média da semana"
      ],
      "metadata": {
        "id": "twHlosbpUrAo"
      },
      "execution_count": 8,
      "outputs": []
    },
    {
      "cell_type": "code",
      "source": [
        "import numpy as np"
      ],
      "metadata": {
        "id": "QnHXM_5qUjDe"
      },
      "execution_count": 9,
      "outputs": []
    },
    {
      "cell_type": "code",
      "source": [
        "# Temperaturas da semana\n",
        "temperaturas = np.array([22.5, 24.0, 19.8, 21.4, 23.0, 25.1, 20.7])\n",
        "dias = np.array([\"Seg\", \"Ter\", \"Qua\", \"Qui\", \"Sex\", \"Sáb\", \"Dom\"])"
      ],
      "metadata": {
        "id": "FIZmzuk8UjGm"
      },
      "execution_count": 10,
      "outputs": []
    },
    {
      "cell_type": "code",
      "source": [
        "# Mostrar cada dia e temperatura\n",
        "print(\"Temperaturas da semana:\")\n",
        "for i in range(len(dias)):\n",
        "    print(dias[i], \":\", temperaturas[i], \"°C\")"
      ],
      "metadata": {
        "colab": {
          "base_uri": "https://localhost:8080/"
        },
        "id": "s0TaqYVwUjLW",
        "outputId": "7c41611d-639c-4832-bce4-10cac7f5f12e"
      },
      "execution_count": 11,
      "outputs": [
        {
          "output_type": "stream",
          "name": "stdout",
          "text": [
            "Temperaturas da semana:\n",
            "Seg : 22.5 °C\n",
            "Ter : 24.0 °C\n",
            "Qua : 19.8 °C\n",
            "Qui : 21.4 °C\n",
            "Sex : 23.0 °C\n",
            "Sáb : 25.1 °C\n",
            "Dom : 20.7 °C\n"
          ]
        }
      ]
    },
    {
      "cell_type": "code",
      "source": [
        "# Média da semana\n",
        "media = np.mean(temperaturas)\n",
        "print(\"\\nTemperatura média da semana:\", media)"
      ],
      "metadata": {
        "colab": {
          "base_uri": "https://localhost:8080/"
        },
        "id": "uKCM4JqtUjbH",
        "outputId": "8b5937a7-ed81-417c-a3c1-c911584e2745"
      },
      "execution_count": 12,
      "outputs": [
        {
          "output_type": "stream",
          "name": "stdout",
          "text": [
            "\n",
            "Temperatura média da semana: 22.357142857142854\n"
          ]
        }
      ]
    },
    {
      "cell_type": "code",
      "source": [
        "# Temperatura máxima e o dia\n",
        "indice_max = np.argmax(temperaturas)\n",
        "print(\"Temperatura máxima:\", temperaturas[indice_max], \"°C no dia\", dias[indice_max])"
      ],
      "metadata": {
        "colab": {
          "base_uri": "https://localhost:8080/"
        },
        "id": "ydt0bz6bYZqF",
        "outputId": "e6468110-3432-4c68-d50a-70fe58265700"
      },
      "execution_count": 13,
      "outputs": [
        {
          "output_type": "stream",
          "name": "stdout",
          "text": [
            "Temperatura máxima: 25.1 °C no dia Sáb\n"
          ]
        }
      ]
    },
    {
      "cell_type": "code",
      "source": [
        "# Dias com temperatura acima da média\n",
        "print(\"\\nDias com temperatura acima da média:\")\n",
        "for i in range(len(dias)):\n",
        "    if temperaturas[i] > media:\n",
        "        print(dias[i])"
      ],
      "metadata": {
        "colab": {
          "base_uri": "https://localhost:8080/"
        },
        "id": "fv1fXk5gYZs-",
        "outputId": "a5f8c91c-0cf0-4676-da61-df008cb5c4e0"
      },
      "execution_count": 14,
      "outputs": [
        {
          "output_type": "stream",
          "name": "stdout",
          "text": [
            "\n",
            "Dias com temperatura acima da média:\n",
            "Seg\n",
            "Ter\n",
            "Sex\n",
            "Sáb\n"
          ]
        }
      ]
    },
    {
      "cell_type": "code",
      "source": [
        "# Converter temperaturas para Fahrenheit\n",
        "print(\"\\nTemperaturas em Fahrenheit:\")\n",
        "for i in range(len(dias)):\n",
        "    f = temperaturas[i] * 1.8 + 32\n",
        "    print(dias[i], \":\", f, \"°F\")"
      ],
      "metadata": {
        "colab": {
          "base_uri": "https://localhost:8080/"
        },
        "id": "5-jFLCe3Yj2u",
        "outputId": "d828f825-1dbc-4ac6-f005-70310a81b091"
      },
      "execution_count": 15,
      "outputs": [
        {
          "output_type": "stream",
          "name": "stdout",
          "text": [
            "\n",
            "Temperaturas em Fahrenheit:\n",
            "Seg : 72.5 °F\n",
            "Ter : 75.2 °F\n",
            "Qua : 67.64 °F\n",
            "Qui : 70.52 °F\n",
            "Sex : 73.4 °F\n",
            "Sáb : 77.18 °F\n",
            "Dom : 69.25999999999999 °F\n"
          ]
        }
      ]
    },
    {
      "cell_type": "code",
      "source": [
        "# Trocar temperatura de domingo para 22.0\n",
        "temperaturas[6] = 22.0"
      ],
      "metadata": {
        "id": "9VJtffx0Yj7m"
      },
      "execution_count": 16,
      "outputs": []
    },
    {
      "cell_type": "code",
      "source": [
        "# Nova média\n",
        "nova_media = np.mean(temperaturas)\n",
        "print(\"\\nNova média depois da alteração de domingo:\", nova_media)"
      ],
      "metadata": {
        "colab": {
          "base_uri": "https://localhost:8080/"
        },
        "id": "4n7eer6jYj-m",
        "outputId": "8b00e242-33d0-4e2c-de30-8a36e426a7c3"
      },
      "execution_count": 17,
      "outputs": [
        {
          "output_type": "stream",
          "name": "stdout",
          "text": [
            "\n",
            "Nova média depois da alteração de domingo: 22.54285714285714\n"
          ]
        }
      ]
    }
  ],
  "metadata": {
    "colab": {
      "name": "Conheça o Colab",
      "provenance": []
    },
    "kernelspec": {
      "display_name": "Python 3",
      "name": "python3"
    }
  },
  "nbformat": 4,
  "nbformat_minor": 0
}