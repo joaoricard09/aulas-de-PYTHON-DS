{
  "cells": [
    {
      "cell_type": "code",
      "source": [
        "#exercício de DataFrames no Pandas"
      ],
      "metadata": {
        "id": "T2jtA_Coj5LX"
      },
      "execution_count": 44,
      "outputs": []
    },
    {
      "cell_type": "code",
      "source": [
        "import pandas as pd"
      ],
      "metadata": {
        "id": "w4iAx6Jnj5Ge"
      },
      "execution_count": 43,
      "outputs": []
    },
    {
      "cell_type": "code",
      "source": [
        "# Criar o DataFrame com os dados fornecidos\n",
        "cidades_br = pd.DataFrame({\n",
        "    'Cidade': ['São Paulo', 'Rio de Janeiro', 'Belo Horizonte', 'Porto Alegre', 'Curitiba'],\n",
        "    'Estado': ['SP', 'RJ', 'MG', 'RS', 'PR'],\n",
        "    'População (milhões)': [12.3, 6.7, 2.5, 1.5, 1.9],\n",
        "    'Capital': [True, True, True, True, True]\n",
        "})\n",
        "Cidades = pd.DataFrame(cidades_br)\n",
        "print(Cidades)"
      ],
      "metadata": {
        "colab": {
          "base_uri": "https://localhost:8080/"
        },
        "id": "-veI-ya3j5CG",
        "outputId": "ca21c262-b946-47eb-d877-aba52193421e"
      },
      "execution_count": 45,
      "outputs": [
        {
          "output_type": "stream",
          "name": "stdout",
          "text": [
            "           Cidade Estado  População (milhões)  Capital\n",
            "0       São Paulo     SP                 12.3     True\n",
            "1  Rio de Janeiro     RJ                  6.7     True\n",
            "2  Belo Horizonte     MG                  2.5     True\n",
            "3    Porto Alegre     RS                  1.5     True\n",
            "4        Curitiba     PR                  1.9     True\n"
          ]
        }
      ]
    },
    {
      "cell_type": "code",
      "source": [
        "# Exibir as 3 primeiras linhas\n",
        "print(Cidades.head(3))"
      ],
      "metadata": {
        "colab": {
          "base_uri": "https://localhost:8080/"
        },
        "id": "Iq8Iw_OkkRJm",
        "outputId": "29b83365-a4b8-4976-9e99-a7412e0a3a54"
      },
      "execution_count": 46,
      "outputs": [
        {
          "output_type": "stream",
          "name": "stdout",
          "text": [
            "           Cidade Estado  População (milhões)  Capital\n",
            "0       São Paulo     SP                 12.3     True\n",
            "1  Rio de Janeiro     RJ                  6.7     True\n",
            "2  Belo Horizonte     MG                  2.5     True\n"
          ]
        }
      ]
    },
    {
      "cell_type": "code",
      "source": [
        "# Exibir 2 linhas aleatórias\n",
        "print(Cidades.sample(2))"
      ],
      "metadata": {
        "colab": {
          "base_uri": "https://localhost:8080/"
        },
        "id": "0TayQBijlOh4",
        "outputId": "13feb7a8-cef9-4979-e4ef-93c259836a86"
      },
      "execution_count": 47,
      "outputs": [
        {
          "output_type": "stream",
          "name": "stdout",
          "text": [
            "           Cidade Estado  População (milhões)  Capital\n",
            "1  Rio de Janeiro     RJ                  6.7     True\n",
            "3    Porto Alegre     RS                  1.5     True\n"
          ]
        }
      ]
    },
    {
      "cell_type": "code",
      "source": [
        "# Seleção de colunas\n",
        "print(Cidades[['Cidade']])\n",
        "print(Cidades[['Estado', 'População (milhões)']])\n"
      ],
      "metadata": {
        "colab": {
          "base_uri": "https://localhost:8080/"
        },
        "id": "p74IG4ArlOkp",
        "outputId": "44c80839-9535-454f-f66f-3b362aa23837"
      },
      "execution_count": 48,
      "outputs": [
        {
          "output_type": "stream",
          "name": "stdout",
          "text": [
            "           Cidade\n",
            "0       São Paulo\n",
            "1  Rio de Janeiro\n",
            "2  Belo Horizonte\n",
            "3    Porto Alegre\n",
            "4        Curitiba\n",
            "  Estado  População (milhões)\n",
            "0     SP                 12.3\n",
            "1     RJ                  6.7\n",
            "2     MG                  2.5\n",
            "3     RS                  1.5\n",
            "4     PR                  1.9\n"
          ]
        }
      ]
    },
    {
      "cell_type": "code",
      "source": [
        "# Adicionando coluna Área\n",
        "Cidades['Area (km²)'] = [1521, 1200, 331, 496, 435]\n",
        "print(Cidades)\n"
      ],
      "metadata": {
        "colab": {
          "base_uri": "https://localhost:8080/"
        },
        "id": "ejbVWDcvlOno",
        "outputId": "53a418ce-48a1-4dfb-e8ee-877f93a907c6"
      },
      "execution_count": 49,
      "outputs": [
        {
          "output_type": "stream",
          "name": "stdout",
          "text": [
            "           Cidade Estado  População (milhões)  Capital  Area (km²)\n",
            "0       São Paulo     SP                 12.3     True        1521\n",
            "1  Rio de Janeiro     RJ                  6.7     True        1200\n",
            "2  Belo Horizonte     MG                  2.5     True         331\n",
            "3    Porto Alegre     RS                  1.5     True         496\n",
            "4        Curitiba     PR                  1.9     True         435\n"
          ]
        }
      ]
    },
    {
      "cell_type": "code",
      "source": [
        "# Alterar Capital para False em Porto Alegre e Curitiba\n",
        "Cidades.loc[Cidades['Cidade'].isin(['Porto Alegre', 'Curitiba']), 'Capital'] = False\n",
        "print(Cidades)"
      ],
      "metadata": {
        "colab": {
          "base_uri": "https://localhost:8080/"
        },
        "id": "gXIVGYALlOqB",
        "outputId": "165d8d4e-0c91-4483-fc59-a6b7de8be70e"
      },
      "execution_count": 50,
      "outputs": [
        {
          "output_type": "stream",
          "name": "stdout",
          "text": [
            "           Cidade Estado  População (milhões)  Capital  Area (km²)\n",
            "0       São Paulo     SP                 12.3     True        1521\n",
            "1  Rio de Janeiro     RJ                  6.7     True        1200\n",
            "2  Belo Horizonte     MG                  2.5     True         331\n",
            "3    Porto Alegre     RS                  1.5    False         496\n",
            "4        Curitiba     PR                  1.9    False         435\n"
          ]
        }
      ]
    },
    {
      "cell_type": "code",
      "source": [
        "# Renomear colunas\n",
        "Cidades = Cidades.rename(columns={\n",
        "    'Cidade': 'Nome da Cidade',\n",
        "    'Estado': 'UF',\n",
        "    'População (milhões)': 'Habitantes (M)',\n",
        "    'Capital': 'É Capital',\n",
        "    'Area (km²)': 'Tamanho (km²)'\n",
        "})\n",
        "print(Cidades)"
      ],
      "metadata": {
        "colab": {
          "base_uri": "https://localhost:8080/"
        },
        "id": "-99ctBGAlOul",
        "outputId": "1cebbc68-b418-41fa-af6b-9970f4e8df25"
      },
      "execution_count": 51,
      "outputs": [
        {
          "output_type": "stream",
          "name": "stdout",
          "text": [
            "   Nome da Cidade  UF  Habitantes (M)  É Capital  Tamanho (km²)\n",
            "0       São Paulo  SP            12.3       True           1521\n",
            "1  Rio de Janeiro  RJ             6.7       True           1200\n",
            "2  Belo Horizonte  MG             2.5       True            331\n",
            "3    Porto Alegre  RS             1.5      False            496\n",
            "4        Curitiba  PR             1.9      False            435\n"
          ]
        }
      ]
    },
    {
      "cell_type": "code",
      "source": [
        "# Descrição estatística\n",
        "print(Cidades.describe())"
      ],
      "metadata": {
        "colab": {
          "base_uri": "https://localhost:8080/"
        },
        "id": "5kkR3AxvlXl2",
        "outputId": "2ebbcfe2-fb6f-408e-a107-9930a0dd3b66"
      },
      "execution_count": 52,
      "outputs": [
        {
          "output_type": "stream",
          "name": "stdout",
          "text": [
            "       Habitantes (M)  Tamanho (km²)\n",
            "count        5.000000       5.000000\n",
            "mean         4.980000     796.600000\n",
            "std          4.590425     530.420871\n",
            "min          1.500000     331.000000\n",
            "25%          1.900000     435.000000\n",
            "50%          2.500000     496.000000\n",
            "75%          6.700000    1200.000000\n",
            "max         12.300000    1521.000000\n"
          ]
        }
      ]
    },
    {
      "cell_type": "code",
      "source": [
        "# Filtrar cidades com população > 2.0\n",
        "print(Cidades[Cidades['Habitantes (M)'] > 2.0])"
      ],
      "metadata": {
        "colab": {
          "base_uri": "https://localhost:8080/"
        },
        "id": "LE26k0nHlXc-",
        "outputId": "04186850-3f3f-4de2-aac7-a60cb4a7abe3"
      },
      "execution_count": 53,
      "outputs": [
        {
          "output_type": "stream",
          "name": "stdout",
          "text": [
            "   Nome da Cidade  UF  Habitantes (M)  É Capital  Tamanho (km²)\n",
            "0       São Paulo  SP            12.3       True           1521\n",
            "1  Rio de Janeiro  RJ             6.7       True           1200\n",
            "2  Belo Horizonte  MG             2.5       True            331\n"
          ]
        }
      ]
    },
    {
      "cell_type": "code",
      "source": [
        "# Remover coluna Tamanho\n",
        "Cidades = Cidades.drop(columns=['Tamanho (km²)'])\n",
        "print(Cidades)"
      ],
      "metadata": {
        "colab": {
          "base_uri": "https://localhost:8080/"
        },
        "id": "UO1QkWoHlXZ3",
        "outputId": "ce9b8d71-3e29-4d7f-a4aa-f20a1aad8f4d"
      },
      "execution_count": 54,
      "outputs": [
        {
          "output_type": "stream",
          "name": "stdout",
          "text": [
            "   Nome da Cidade  UF  Habitantes (M)  É Capital\n",
            "0       São Paulo  SP            12.3       True\n",
            "1  Rio de Janeiro  RJ             6.7       True\n",
            "2  Belo Horizonte  MG             2.5       True\n",
            "3    Porto Alegre  RS             1.5      False\n",
            "4        Curitiba  PR             1.9      False\n"
          ]
        }
      ]
    },
    {
      "cell_type": "code",
      "source": [
        "# Primeira linha\n",
        "print(Cidades.iloc[0:1])"
      ],
      "metadata": {
        "colab": {
          "base_uri": "https://localhost:8080/"
        },
        "id": "CP9tnOnQlkAR",
        "outputId": "afdf17a1-9ef8-48f5-dc03-fa7703846fa1"
      },
      "execution_count": 55,
      "outputs": [
        {
          "output_type": "stream",
          "name": "stdout",
          "text": [
            "  Nome da Cidade  UF  Habitantes (M)  É Capital\n",
            "0      São Paulo  SP            12.3       True\n"
          ]
        }
      ]
    },
    {
      "cell_type": "code",
      "source": [
        "# Linhas de 1 a 3\n",
        "print(Cidades.iloc[1:4])"
      ],
      "metadata": {
        "colab": {
          "base_uri": "https://localhost:8080/"
        },
        "id": "f9cwSJNwlkCW",
        "outputId": "51caf1e2-0083-4a2e-ee02-43d2f7963e61"
      },
      "execution_count": 56,
      "outputs": [
        {
          "output_type": "stream",
          "name": "stdout",
          "text": [
            "   Nome da Cidade  UF  Habitantes (M)  É Capital\n",
            "1  Rio de Janeiro  RJ             6.7       True\n",
            "2  Belo Horizonte  MG             2.5       True\n",
            "3    Porto Alegre  RS             1.5      False\n"
          ]
        }
      ]
    },
    {
      "cell_type": "code",
      "source": [
        "# Apenas UF e Habitantes (M) das linhas 0 e 4\n",
        "print(Cidades.iloc[0:5:4, [1,2]])"
      ],
      "metadata": {
        "colab": {
          "base_uri": "https://localhost:8080/"
        },
        "id": "1biLCK6hlkE5",
        "outputId": "43432aaf-b651-4de5-95dd-2e645c3cc8b0"
      },
      "execution_count": 57,
      "outputs": [
        {
          "output_type": "stream",
          "name": "stdout",
          "text": [
            "   UF  Habitantes (M)\n",
            "0  SP            12.3\n",
            "4  PR             1.9\n"
          ]
        }
      ]
    }
  ],
  "metadata": {
    "colab": {
      "name": "Conheça o Colab",
      "provenance": []
    },
    "kernelspec": {
      "display_name": "Python 3",
      "name": "python3"
    }
  },
  "nbformat": 4,
  "nbformat_minor": 0
}